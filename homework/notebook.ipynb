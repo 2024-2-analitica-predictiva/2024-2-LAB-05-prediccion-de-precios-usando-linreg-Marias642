{
 "cells": [
  {
   "cell_type": "code",
   "execution_count": 3,
   "metadata": {},
   "outputs": [],
   "source": [
    "import pandas as pd\n",
    "import numpy as np\n",
    "from sklearn.compose import ColumnTransformer\n",
    "from sklearn.preprocessing import OneHotEncoder, MinMaxScaler\n",
    "from sklearn.pipeline import Pipeline\n",
    "from sklearn.linear_model import LinearRegression\n",
    "from sklearn.feature_selection import SelectKBest, f_regression\n",
    "from sklearn.model_selection import GridSearchCV\n",
    "from sklearn.metrics import make_scorer, r2_score\n",
    "from sklearn.model_selection import GridSearchCV\n",
    "from sklearn.metrics import make_scorer, r2_score, mean_squared_error, mean_absolute_error, median_absolute_error\n",
    "import pickle\n",
    "import os\n",
    "import gzip\n",
    "import json"
   ]
  },
  {
   "cell_type": "code",
   "execution_count": null,
   "metadata": {},
   "outputs": [],
   "source": [
    "test_data =pd.read_csv(\"../files/input/test_data.csv.zip\") #Leemos el dataframe de test_data.csv.zip\n",
    "train_data =pd.read_csv(\"../files/input/train_data.csv.zip\") #Leemos el dataframe de test_data.csv.zip\n",
    "\n",
    "# Paso 1\n",
    "test_data['Age'] = 2021 - test_data['Year']\n",
    "test_data= test_data.drop(columns=[\"Year\", \"Car_Name\"]) \n",
    "\n",
    "\n",
    "train_data['Age'] = 2021 - train_data['Year']\n",
    "train_data= train_data.drop(columns=[\"Year\", \"Car_Name\"])"
   ]
  },
  {
   "cell_type": "code",
   "execution_count": null,
   "metadata": {},
   "outputs": [],
   "source": [
    "# Paso 2\n",
    "X_train = train_data.drop(columns=[\"Present_Price\"])  \n",
    "y_train = train_data[\"Present_Price\"]  \n",
    "\n",
    "X_test = test_data.drop(columns=[\"Present_Price\"])  \n",
    "y_test = test_data[\"Present_Price\"]  "
   ]
  },
  {
   "cell_type": "code",
   "execution_count": null,
   "metadata": {},
   "outputs": [],
   "source": [
    "# Paso 3\n",
    "categorical_features=['Fuel_Type','Selling_type','Transmission']\n",
    "numerical_features= [col for col in X_train.columns if col not in categorical_features]\n",
    "\n",
    "preprocessor = ColumnTransformer(\n",
    "    transformers=[\n",
    "        ('scaler', MinMaxScaler(), numerical_features), \n",
    "        ('cat', OneHotEncoder(), categorical_features)\n",
    "    ],\n",
    "\n",
    ")\n",
    "\n",
    "# Crear el pipeline con el modelo de Regresión Lineal\n",
    "pipeline = Pipeline(\n",
    "    [\n",
    "        ('preprocessor', preprocessor),\n",
    "        ('feature_selection', SelectKBest(f_regression)),\n",
    "        ('classifier', LinearRegression())\n",
    "])\n"
   ]
  },
  {
   "cell_type": "code",
   "execution_count": null,
   "metadata": {},
   "outputs": [],
   "source": [
    "# Paso 4\n",
    "param_grid = {\n",
    "    'feature_selection__k':range(1,15),\n",
    "    'classifier__fit_intercept':[True,False],\n",
    "    'classifier__positive':[True,False]\n",
    "\n",
    "}\n",
    "model=GridSearchCV(\n",
    "    pipeline,\n",
    "    param_grid,\n",
    "    cv=10,\n",
    "    scoring=\"neg_mean_absolute_error\",\n",
    "    n_jobs=-1   \n",
    "    )\n",
    "\n",
    "model.fit(X_train, y_train)"
   ]
  },
  {
   "cell_type": "code",
   "execution_count": null,
   "metadata": {},
   "outputs": [],
   "source": [
    "# Paso 5\n",
    "models_dir = '../files/models'\n",
    "os.makedirs(models_dir, exist_ok=True)\n",
    "\n",
    "with gzip.open(\"../files/models/model.pkl.gz\", \"wb\") as file:\n",
    "    pickle.dump(model, file)"
   ]
  },
  {
   "cell_type": "code",
   "execution_count": 2,
   "metadata": {},
   "outputs": [],
   "source": [
    "# Paso 6\n",
    "y_train_pred = model.predict(X_train)\n",
    "y_test_pred = model.predict(X_test)\n",
    "\n",
    "metrics = [\n",
    "    {\n",
    "        \"type\": \"metrics\",\n",
    "        \"dataset\": \"train\",\n",
    "        \"r2\": float(r2_score(y_train, y_train_pred)),\n",
    "        \"mse\": float(mean_squared_error(y_train, y_train_pred)),\n",
    "        \"mad\": float(median_absolute_error(y_train, y_train_pred)),\n",
    "        \n",
    "    },\n",
    "    {\n",
    "        \"type\": \"metrics\",\n",
    "        \"dataset\": \"test\",\n",
    "        \"r2\": float(r2_score(y_test, y_test_pred)),\n",
    "        \"mse\": float(mean_squared_error(y_test, y_test_pred)),\n",
    "        \"mad\": float(median_absolute_error(y_test, y_test_pred)),\n",
    " \n",
    "    },\n",
    "]\n",
    "\n",
    "output_file = \"../files/output/metrics.json\"\n",
    "os.makedirs(\"../files/output\", exist_ok=True)\n",
    "\n",
    "with open(output_file, \"w\") as f:\n",
    "    for item in metrics:\n",
    "        f.write(str(item).replace(\"'\", '\"') + \"\\n\")\n",
    "        "
   ]
  }
 ],
 "metadata": {
  "kernelspec": {
   "display_name": ".venv",
   "language": "python",
   "name": "python3"
  },
  "language_info": {
   "codemirror_mode": {
    "name": "ipython",
    "version": 3
   },
   "file_extension": ".py",
   "mimetype": "text/x-python",
   "name": "python",
   "nbconvert_exporter": "python",
   "pygments_lexer": "ipython3",
   "version": "3.12.2"
  }
 },
 "nbformat": 4,
 "nbformat_minor": 2
}
